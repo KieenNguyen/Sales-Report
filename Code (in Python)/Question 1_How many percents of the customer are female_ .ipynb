{
 "cells": [
  {
   "cell_type": "code",
   "execution_count": 1,
   "id": "591e868c",
   "metadata": {},
   "outputs": [],
   "source": [
    "#import library:\n",
    "import pandas as pd \n",
    "import numpy as np \n",
    "import seaborn as sns\n",
    "import matplotlib.pyplot as plt "
   ]
  },
  {
   "cell_type": "code",
   "execution_count": 2,
   "id": "674986a4",
   "metadata": {},
   "outputs": [
    {
     "data": {
      "text/html": [
       "<div>\n",
       "<style scoped>\n",
       "    .dataframe tbody tr th:only-of-type {\n",
       "        vertical-align: middle;\n",
       "    }\n",
       "\n",
       "    .dataframe tbody tr th {\n",
       "        vertical-align: top;\n",
       "    }\n",
       "\n",
       "    .dataframe thead th {\n",
       "        text-align: right;\n",
       "    }\n",
       "</style>\n",
       "<table border=\"1\" class=\"dataframe\">\n",
       "  <thead>\n",
       "    <tr style=\"text-align: right;\">\n",
       "      <th></th>\n",
       "      <th>create_date</th>\n",
       "      <th>visitor_id</th>\n",
       "      <th>gender</th>\n",
       "      <th>age</th>\n",
       "      <th>visitor_source</th>\n",
       "    </tr>\n",
       "  </thead>\n",
       "  <tbody>\n",
       "    <tr>\n",
       "      <th>0</th>\n",
       "      <td>2020-02-08</td>\n",
       "      <td>eLbvQsgdm1yEo44ggZA6i9mXYIg=</td>\n",
       "      <td>Nam</td>\n",
       "      <td>37.0</td>\n",
       "      <td>Cừa hàng</td>\n",
       "    </tr>\n",
       "    <tr>\n",
       "      <th>1</th>\n",
       "      <td>2020-02-08</td>\n",
       "      <td>5I6he68XtIQHpsRGKp0EsfyM3x4=</td>\n",
       "      <td>LGBT</td>\n",
       "      <td>0.0</td>\n",
       "      <td>Website công ty</td>\n",
       "    </tr>\n",
       "    <tr>\n",
       "      <th>2</th>\n",
       "      <td>2020-02-08</td>\n",
       "      <td>CP4VK05fHSxd8oMQ2TPPKp49ZtQ=</td>\n",
       "      <td>Nam</td>\n",
       "      <td>0.0</td>\n",
       "      <td>Website công ty</td>\n",
       "    </tr>\n",
       "    <tr>\n",
       "      <th>3</th>\n",
       "      <td>2020-02-08</td>\n",
       "      <td>k8lYxsZaAhgnQOgTTgFlVvw6GGQ=</td>\n",
       "      <td>Nữ</td>\n",
       "      <td>0.0</td>\n",
       "      <td>Website công ty</td>\n",
       "    </tr>\n",
       "    <tr>\n",
       "      <th>4</th>\n",
       "      <td>2020-02-08</td>\n",
       "      <td>x65MkmEJiaGCq3OGxuI2uvfq4os=</td>\n",
       "      <td>Không rõ</td>\n",
       "      <td>39.0</td>\n",
       "      <td>Sàn thương mại điện tử</td>\n",
       "    </tr>\n",
       "    <tr>\n",
       "      <th>...</th>\n",
       "      <td>...</td>\n",
       "      <td>...</td>\n",
       "      <td>...</td>\n",
       "      <td>...</td>\n",
       "      <td>...</td>\n",
       "    </tr>\n",
       "    <tr>\n",
       "      <th>126398</th>\n",
       "      <td>2020-02-04</td>\n",
       "      <td>UaPkbFX9VqV4szba0Ya/E5SFKS4=</td>\n",
       "      <td>Nam</td>\n",
       "      <td>35.0</td>\n",
       "      <td>Cừa hàng</td>\n",
       "    </tr>\n",
       "    <tr>\n",
       "      <th>126399</th>\n",
       "      <td>2020-02-05</td>\n",
       "      <td>y3cDfPPmSLJRtPGL0/pExUOAqeQ=</td>\n",
       "      <td>Không rõ</td>\n",
       "      <td>35.0</td>\n",
       "      <td>Sàn thương mại điện tử</td>\n",
       "    </tr>\n",
       "    <tr>\n",
       "      <th>126400</th>\n",
       "      <td>2020-02-06</td>\n",
       "      <td>snYIf8MqQkimpm2DpiTnXHx8IoM=</td>\n",
       "      <td>Nam</td>\n",
       "      <td>35.0</td>\n",
       "      <td>Cừa hàng</td>\n",
       "    </tr>\n",
       "    <tr>\n",
       "      <th>126401</th>\n",
       "      <td>2020-02-06</td>\n",
       "      <td>42YVqRkkg0q2PNI4UkLLdKY7SYs=</td>\n",
       "      <td>Nam</td>\n",
       "      <td>35.0</td>\n",
       "      <td>Cừa hàng</td>\n",
       "    </tr>\n",
       "    <tr>\n",
       "      <th>126402</th>\n",
       "      <td>2020-02-08</td>\n",
       "      <td>dJqc1yztgHr+2preC8/lqE/l2hI=</td>\n",
       "      <td>Không rõ</td>\n",
       "      <td>35.0</td>\n",
       "      <td>Sàn thương mại điện tử</td>\n",
       "    </tr>\n",
       "  </tbody>\n",
       "</table>\n",
       "<p>126403 rows × 5 columns</p>\n",
       "</div>"
      ],
      "text/plain": [
       "       create_date                    visitor_id    gender   age  \\\n",
       "0       2020-02-08  eLbvQsgdm1yEo44ggZA6i9mXYIg=       Nam  37.0   \n",
       "1       2020-02-08  5I6he68XtIQHpsRGKp0EsfyM3x4=      LGBT   0.0   \n",
       "2       2020-02-08  CP4VK05fHSxd8oMQ2TPPKp49ZtQ=       Nam   0.0   \n",
       "3       2020-02-08  k8lYxsZaAhgnQOgTTgFlVvw6GGQ=        Nữ   0.0   \n",
       "4       2020-02-08  x65MkmEJiaGCq3OGxuI2uvfq4os=  Không rõ  39.0   \n",
       "...            ...                           ...       ...   ...   \n",
       "126398  2020-02-04  UaPkbFX9VqV4szba0Ya/E5SFKS4=       Nam  35.0   \n",
       "126399  2020-02-05  y3cDfPPmSLJRtPGL0/pExUOAqeQ=  Không rõ  35.0   \n",
       "126400  2020-02-06  snYIf8MqQkimpm2DpiTnXHx8IoM=       Nam  35.0   \n",
       "126401  2020-02-06  42YVqRkkg0q2PNI4UkLLdKY7SYs=       Nam  35.0   \n",
       "126402  2020-02-08  dJqc1yztgHr+2preC8/lqE/l2hI=  Không rõ  35.0   \n",
       "\n",
       "                visitor_source  \n",
       "0                     Cừa hàng  \n",
       "1              Website công ty  \n",
       "2              Website công ty  \n",
       "3              Website công ty  \n",
       "4       Sàn thương mại điện tử  \n",
       "...                        ...  \n",
       "126398                Cừa hàng  \n",
       "126399  Sàn thương mại điện tử  \n",
       "126400                Cừa hàng  \n",
       "126401                Cừa hàng  \n",
       "126402  Sàn thương mại điện tử  \n",
       "\n",
       "[126403 rows x 5 columns]"
      ]
     },
     "execution_count": 2,
     "metadata": {},
     "output_type": "execute_result"
    }
   ],
   "source": [
    "#Check data in vistor_id file: \n",
    "vistor = pd.read_csv('visitor_information.csv')\n",
    "vistor"
   ]
  },
  {
   "cell_type": "code",
   "execution_count": 32,
   "id": "365e89d1",
   "metadata": {},
   "outputs": [],
   "source": [
    "vistor.to_excel(\"visitor.xlsx\", index = False)"
   ]
  },
  {
   "cell_type": "markdown",
   "id": "9263419a",
   "metadata": {},
   "source": [
    "<H1> ANSWER BUSINESS QUESTION"
   ]
  },
  {
   "cell_type": "markdown",
   "id": "713c4ca0",
   "metadata": {},
   "source": [
    "<H3> Question 1: How many perent of customers are female?"
   ]
  },
  {
   "cell_type": "code",
   "execution_count": 3,
   "id": "96624e3f",
   "metadata": {},
   "outputs": [
    {
     "data": {
      "text/html": [
       "<div>\n",
       "<style scoped>\n",
       "    .dataframe tbody tr th:only-of-type {\n",
       "        vertical-align: middle;\n",
       "    }\n",
       "\n",
       "    .dataframe tbody tr th {\n",
       "        vertical-align: top;\n",
       "    }\n",
       "\n",
       "    .dataframe thead th {\n",
       "        text-align: right;\n",
       "    }\n",
       "</style>\n",
       "<table border=\"1\" class=\"dataframe\">\n",
       "  <thead>\n",
       "    <tr style=\"text-align: right;\">\n",
       "      <th></th>\n",
       "      <th>gender</th>\n",
       "      <th>count</th>\n",
       "    </tr>\n",
       "  </thead>\n",
       "  <tbody>\n",
       "    <tr>\n",
       "      <th>0</th>\n",
       "      <td>Không rõ</td>\n",
       "      <td>80942</td>\n",
       "    </tr>\n",
       "    <tr>\n",
       "      <th>1</th>\n",
       "      <td>LGBT</td>\n",
       "      <td>1633</td>\n",
       "    </tr>\n",
       "    <tr>\n",
       "      <th>2</th>\n",
       "      <td>Nam</td>\n",
       "      <td>28042</td>\n",
       "    </tr>\n",
       "    <tr>\n",
       "      <th>3</th>\n",
       "      <td>Nữ</td>\n",
       "      <td>15786</td>\n",
       "    </tr>\n",
       "  </tbody>\n",
       "</table>\n",
       "</div>"
      ],
      "text/plain": [
       "     gender  count\n",
       "0  Không rõ  80942\n",
       "1      LGBT   1633\n",
       "2       Nam  28042\n",
       "3        Nữ  15786"
      ]
     },
     "execution_count": 3,
     "metadata": {},
     "output_type": "execute_result"
    }
   ],
   "source": [
    "#Check overall data:\n",
    "gender =vistor.groupby('gender').size().to_frame().reset_index().rename(columns={0:'count'})\n",
    "gender.head()"
   ]
  },
  {
   "cell_type": "code",
   "execution_count": 4,
   "id": "766c3ca8",
   "metadata": {},
   "outputs": [
    {
     "data": {
      "text/html": [
       "<div>\n",
       "<style scoped>\n",
       "    .dataframe tbody tr th:only-of-type {\n",
       "        vertical-align: middle;\n",
       "    }\n",
       "\n",
       "    .dataframe tbody tr th {\n",
       "        vertical-align: top;\n",
       "    }\n",
       "\n",
       "    .dataframe thead th {\n",
       "        text-align: right;\n",
       "    }\n",
       "</style>\n",
       "<table border=\"1\" class=\"dataframe\">\n",
       "  <thead>\n",
       "    <tr style=\"text-align: right;\">\n",
       "      <th></th>\n",
       "      <th>gender</th>\n",
       "      <th>count</th>\n",
       "    </tr>\n",
       "  </thead>\n",
       "  <tbody>\n",
       "    <tr>\n",
       "      <th>1</th>\n",
       "      <td>LGBT</td>\n",
       "      <td>1633</td>\n",
       "    </tr>\n",
       "    <tr>\n",
       "      <th>2</th>\n",
       "      <td>Nam</td>\n",
       "      <td>28042</td>\n",
       "    </tr>\n",
       "    <tr>\n",
       "      <th>3</th>\n",
       "      <td>Nữ</td>\n",
       "      <td>15786</td>\n",
       "    </tr>\n",
       "  </tbody>\n",
       "</table>\n",
       "</div>"
      ],
      "text/plain": [
       "  gender  count\n",
       "1   LGBT   1633\n",
       "2    Nam  28042\n",
       "3     Nữ  15786"
      ]
     },
     "execution_count": 4,
     "metadata": {},
     "output_type": "execute_result"
    }
   ],
   "source": [
    "#Eliminate \"Không rõ\": \n",
    "gender1= gender.drop([0,0])\n",
    "gender1"
   ]
  },
  {
   "cell_type": "code",
   "execution_count": 9,
   "id": "093a63a4",
   "metadata": {},
   "outputs": [
    {
     "data": {
      "image/png": "[encoded data removed]",
      "text/plain": [
       "<Figure size 432x288 with 1 Axes>"
      ]
     },
     "metadata": {},
     "output_type": "display_data"
    }
   ],
   "source": [
    "#Pie chart: \n",
    "plt.pie(gender1['count'], labels =gender1['gender'], autopct='%1.0f%%', pctdistance=0.7, labeldistance=1.2)\n",
    "plt.show()"
   ]
  },
  {
   "cell_type": "code",
   "execution_count": 8,
   "id": "a73b326d",
   "metadata": {},
   "outputs": [
    {
     "name": "stdout",
     "output_type": "stream",
     "text": [
      "Data set with \"Không rõ\" record have: 126403 records\n",
      "Data set after eliminate \"Không rõ\" record have: 45461 records\n"
     ]
    }
   ],
   "source": [
    "#calculate the population size: \n",
    "print('Data set with \"Không rõ\" record have:',gender['count'].sum(),'records')\n",
    "print('Data set after eliminate \"Không rõ\" record have:',gender1['count'].sum() ,'records')"
   ]
  },
  {
   "cell_type": "markdown",
   "id": "6078f7a8",
   "metadata": {},
   "source": [
    "**Because the two cases have different population sizes, statistical probability must be applied to predict the percentage of female customers**."
   ]
  },
  {
   "cell_type": "markdown",
   "id": "7419e9ba",
   "metadata": {},
   "source": []
  }
 ],
 "metadata": {
  "kernelspec": {
   "display_name": "Python 3",
   "language": "python",
   "name": "python3"
  },
  "language_info": {
   "codemirror_mode": {
    "name": "ipython",
    "version": 3
   },
   "file_extension": ".py",
   "mimetype": "text/x-python",
   "name": "python",
   "nbconvert_exporter": "python",
   "pygments_lexer": "ipython3",
   "version": "3.9.4"
  }
 },
 "nbformat": 4,
 "nbformat_minor": 5
}
